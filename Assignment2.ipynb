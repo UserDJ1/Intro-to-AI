{
 "cells": [
  {
   "cell_type": "markdown",
   "metadata": {},
   "source": [
    "# Introduction to Artificial Intelligence\n",
    "## Assignment 2\n",
    "## Dominic Pelletier\n",
    "## 10/26/2023"
   ]
  },
  {
   "cell_type": "markdown",
   "metadata": {},
   "source": [
    "### Imports"
   ]
  },
  {
   "cell_type": "code",
   "execution_count": 11,
   "metadata": {},
   "outputs": [],
   "source": [
    "import numpy as np\n",
    "import pandas as pd\n",
    "import matplotlib.pyplot as plt\n",
    "\n",
    "from sklearn import metrics\n",
    "\n",
    "from sklearn.model_selection import *\n",
    "from sklearn.tree import *\n",
    "from sklearn.linear_model import *\n",
    "from sklearn.neighbors import *"
   ]
  },
  {
   "cell_type": "markdown",
   "metadata": {},
   "source": [
    "### Question 1"
   ]
  },
  {
   "cell_type": "code",
   "execution_count": 34,
   "metadata": {},
   "outputs": [
    {
     "name": "stdout",
     "output_type": "stream",
     "text": [
      "0.685\n",
      "0.785\n",
      "              precision    recall  f1-score   support\n",
      "\n",
      "           0       0.76      0.82      0.78       141\n",
      "           1       0.46      0.37      0.41        59\n",
      "\n",
      "    accuracy                           0.69       200\n",
      "   macro avg       0.61      0.59      0.60       200\n",
      "weighted avg       0.67      0.69      0.67       200\n",
      "\n",
      "              precision    recall  f1-score   support\n",
      "\n",
      "           0       0.81      0.90      0.86       141\n",
      "           1       0.68      0.51      0.58        59\n",
      "\n",
      "    accuracy                           0.79       200\n",
      "   macro avg       0.75      0.70      0.72       200\n",
      "weighted avg       0.78      0.79      0.77       200\n",
      "\n"
     ]
    },
    {
     "name": "stderr",
     "output_type": "stream",
     "text": [
      "c:\\Users\\DJ\\AppData\\Local\\Programs\\Python\\Python38\\lib\\site-packages\\sklearn\\linear_model\\_logistic.py:460: ConvergenceWarning: lbfgs failed to converge (status=1):\n",
      "STOP: TOTAL NO. of ITERATIONS REACHED LIMIT.\n",
      "\n",
      "Increase the number of iterations (max_iter) or scale the data as shown in:\n",
      "    https://scikit-learn.org/stable/modules/preprocessing.html\n",
      "Please also refer to the documentation for alternative solver options:\n",
      "    https://scikit-learn.org/stable/modules/linear_model.html#logistic-regression\n",
      "  n_iter_i = _check_optimize_result(\n"
     ]
    }
   ],
   "source": [
    "df = pd.read_csv(\"german-numeric.csv\", sep=r\"\\s+\", header=None)\n",
    "\n",
    "y = df.pop(24) - 1\n",
    "x = df\n",
    "\n",
    "x_train, x_test, y_train, y_test = train_test_split(x.index, y, test_size=0.2)\n",
    "\n",
    "model_knc = KNeighborsClassifier()\n",
    "model_log = LogisticRegression()\n",
    "\n",
    "model_knc.fit(x.iloc[x_train], y_train)\n",
    "model_log.fit(x.iloc[x_train], y_train)\n",
    "\n",
    "y_pred_knc = model_knc.predict(x.iloc[x_test])\n",
    "y_pred_log = model_log.predict(x.iloc[x_test])\n",
    "\n",
    "print(metrics.accuracy_score(y_test, y_pred_knc))\n",
    "print(metrics.accuracy_score(y_test, y_pred_log))\n",
    "\n",
    "print(metrics.classification_report(y_test, y_pred_knc))\n",
    "print(metrics.classification_report(y_test, y_pred_log))"
   ]
  },
  {
   "cell_type": "markdown",
   "metadata": {},
   "source": [
    "The Logistic Regression method appears to be consistently better."
   ]
  },
  {
   "cell_type": "markdown",
   "metadata": {},
   "source": [
    "### Question 2"
   ]
  },
  {
   "cell_type": "code",
   "execution_count": 43,
   "metadata": {},
   "outputs": [
    {
     "name": "stdout",
     "output_type": "stream",
     "text": [
      "[[115  37]\n",
      " [ 26  22]]\n"
     ]
    }
   ],
   "source": [
    "p = y_pred_knc\n",
    "t = y_test\n",
    "\n",
    "confusionmatrix = np.array([[0, 0], [0, 0]])\n",
    "\n",
    "for i,v in enumerate(y_test):\n",
    "    confusionmatrix[p[i], v] += 1\n",
    "\n",
    "print(confusionmatrix)"
   ]
  },
  {
   "cell_type": "code",
   "execution_count": 49,
   "metadata": {},
   "outputs": [
    {
     "name": "stdout",
     "output_type": "stream",
     "text": [
      "0.685 0.4583333333333333 0.3728813559322034\n"
     ]
    }
   ],
   "source": [
    "acc = (confusionmatrix[0,0] + confusionmatrix[1,1]) / (confusionmatrix[0,0] + confusionmatrix[1,0] + confusionmatrix[0, 1] + confusionmatrix[1,1])\n",
    "prec = confusionmatrix[1,1] / (confusionmatrix[1,1] + confusionmatrix[1,0])\n",
    "rec = confusionmatrix[1,1] / (confusionmatrix[1,1] + confusionmatrix[0,1])\n",
    "print(acc, prec, rec)"
   ]
  },
  {
   "cell_type": "markdown",
   "metadata": {},
   "source": [
    "My implementation has all three values matching what is reported by `print(metrics.classification_report(y_test, y_pred_knc))` in Question 1."
   ]
  },
  {
   "cell_type": "code",
   "execution_count": 54,
   "metadata": {},
   "outputs": [],
   "source": [
    "probs = model_knc.predict_proba(x)"
   ]
  },
  {
   "cell_type": "code",
   "execution_count": 61,
   "metadata": {},
   "outputs": [
    {
     "name": "stdout",
     "output_type": "stream",
     "text": [
      "0.6074561403508771\n"
     ]
    }
   ],
   "source": [
    "fpr, tpr, thresholds = metrics.roc_curve(y_pred_knc, y_test)\n",
    "\n",
    "auc = metrics.roc_auc_score(y_pred_knc, y_test)\n",
    "print(auc)"
   ]
  },
  {
   "cell_type": "code",
   "execution_count": 62,
   "metadata": {},
   "outputs": [
    {
     "data": {
      "text/plain": [
       "<matplotlib.legend.Legend at 0x17729b89820>"
      ]
     },
     "execution_count": 62,
     "metadata": {},
     "output_type": "execute_result"
    },
    {
     "data": {
      "image/png": "[encoded data removed]",
      "text/plain": [
       "<Figure size 432x288 with 1 Axes>"
      ]
     },
     "metadata": {
      "needs_background": "light"
     },
     "output_type": "display_data"
    }
   ],
   "source": [
    "plt.plot(fpr, tpr, label='k-Nearest Neighbor')\n",
    "\n",
    "plt.plot([0, 1], [0, 1], 'k--')\n",
    "\n",
    "plt.xlabel(\"False Positive Rate\")\n",
    "plt.ylabel(\"True Positive Rate\")\n",
    "\n",
    "plt.legend()"
   ]
  },
  {
   "cell_type": "code",
   "execution_count": 69,
   "metadata": {},
   "outputs": [
    {
     "name": "stdout",
     "output_type": "stream",
     "text": [
      "0.687\n"
     ]
    }
   ],
   "source": [
    "print(np.mean(cross_val_score(model_knc, x, y, cv=5)))"
   ]
  },
  {
   "cell_type": "code",
   "execution_count": 68,
   "metadata": {},
   "outputs": [
    {
     "name": "stdout",
     "output_type": "stream",
     "text": [
      "0.687\n"
     ]
    }
   ],
   "source": [
    "print(np.mean(cross_val_score(model_knc, x, y, cv=LeaveOneOut())))"
   ]
  },
  {
   "cell_type": "code",
   "execution_count": null,
   "metadata": {},
   "outputs": [],
   "source": []
  }
 ],
 "metadata": {
  "kernelspec": {
   "display_name": "Python 3",
   "language": "python",
   "name": "python3"
  },
  "language_info": {
   "codemirror_mode": {
    "name": "ipython",
    "version": 3
   },
   "file_extension": ".py",
   "mimetype": "text/x-python",
   "name": "python",
   "nbconvert_exporter": "python",
   "pygments_lexer": "ipython3",
   "version": "3.8.8"
  }
 },
 "nbformat": 4,
 "nbformat_minor": 2
}
